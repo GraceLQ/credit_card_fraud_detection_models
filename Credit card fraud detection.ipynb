{
 "cells": [
  {
   "cell_type": "markdown",
   "metadata": {},
   "source": [
    "# Credit Card Fraud Detection Using Decision Tree and Support Vector Machine\n",
    "\n",
    "The goal is to build a model that predicts if a credit card transaction is fraudulent or not.\n",
    "The dataset includes information about transactions made by credit cards in September 2013 by European cardholders.\n",
    "The feature of Principal Component Analysis. "
   ]
  },
  {
   "cell_type": "markdown",
   "metadata": {},
   "source": [
    "## Load package"
   ]
  },
  {
   "cell_type": "code",
   "execution_count": 4,
   "metadata": {},
   "outputs": [
    {
     "name": "stderr",
     "output_type": "stream",
     "text": [
      "/Users/graceluan/anaconda3/lib/python3.11/site-packages/pandas/core/arrays/masked.py:60: UserWarning: Pandas requires version '1.3.6' or newer of 'bottleneck' (version '1.3.5' currently installed).\n",
      "  from pandas.core import (\n"
     ]
    }
   ],
   "source": [
    "import pandas as pd\n",
    "import numpy as np\n",
    "import matplotlib.pyplot as plt"
   ]
  },
  {
   "cell_type": "markdown",
   "metadata": {},
   "source": [
    "## Import and Analyze the Data"
   ]
  },
  {
   "cell_type": "code",
   "execution_count": 5,
   "metadata": {},
   "outputs": [],
   "source": [
    "url = '/Users/graceluan/Documents/Data Science Job Hunting/Credit Card Fraud Detection using SVM DT/creditcard.csv'\n",
    "df= pd.read_csv(url)"
   ]
  },
  {
   "cell_type": "code",
   "execution_count": 6,
   "metadata": {},
   "outputs": [
    {
     "data": {
      "text/html": [
       "<div>\n",
       "<style scoped>\n",
       "    .dataframe tbody tr th:only-of-type {\n",
       "        vertical-align: middle;\n",
       "    }\n",
       "\n",
       "    .dataframe tbody tr th {\n",
       "        vertical-align: top;\n",
       "    }\n",
       "\n",
       "    .dataframe thead th {\n",
       "        text-align: right;\n",
       "    }\n",
       "</style>\n",
       "<table border=\"1\" class=\"dataframe\">\n",
       "  <thead>\n",
       "    <tr style=\"text-align: right;\">\n",
       "      <th></th>\n",
       "      <th>Time</th>\n",
       "      <th>V1</th>\n",
       "      <th>V2</th>\n",
       "      <th>V3</th>\n",
       "      <th>V4</th>\n",
       "      <th>V5</th>\n",
       "      <th>V6</th>\n",
       "      <th>V7</th>\n",
       "      <th>V8</th>\n",
       "      <th>V9</th>\n",
       "      <th>...</th>\n",
       "      <th>V21</th>\n",
       "      <th>V22</th>\n",
       "      <th>V23</th>\n",
       "      <th>V24</th>\n",
       "      <th>V25</th>\n",
       "      <th>V26</th>\n",
       "      <th>V27</th>\n",
       "      <th>V28</th>\n",
       "      <th>Amount</th>\n",
       "      <th>Class</th>\n",
       "    </tr>\n",
       "  </thead>\n",
       "  <tbody>\n",
       "    <tr>\n",
       "      <th>0</th>\n",
       "      <td>0.0</td>\n",
       "      <td>-1.359807</td>\n",
       "      <td>-0.072781</td>\n",
       "      <td>2.536347</td>\n",
       "      <td>1.378155</td>\n",
       "      <td>-0.338321</td>\n",
       "      <td>0.462388</td>\n",
       "      <td>0.239599</td>\n",
       "      <td>0.098698</td>\n",
       "      <td>0.363787</td>\n",
       "      <td>...</td>\n",
       "      <td>-0.018307</td>\n",
       "      <td>0.277838</td>\n",
       "      <td>-0.110474</td>\n",
       "      <td>0.066928</td>\n",
       "      <td>0.128539</td>\n",
       "      <td>-0.189115</td>\n",
       "      <td>0.133558</td>\n",
       "      <td>-0.021053</td>\n",
       "      <td>149.62</td>\n",
       "      <td>0</td>\n",
       "    </tr>\n",
       "    <tr>\n",
       "      <th>1</th>\n",
       "      <td>0.0</td>\n",
       "      <td>1.191857</td>\n",
       "      <td>0.266151</td>\n",
       "      <td>0.166480</td>\n",
       "      <td>0.448154</td>\n",
       "      <td>0.060018</td>\n",
       "      <td>-0.082361</td>\n",
       "      <td>-0.078803</td>\n",
       "      <td>0.085102</td>\n",
       "      <td>-0.255425</td>\n",
       "      <td>...</td>\n",
       "      <td>-0.225775</td>\n",
       "      <td>-0.638672</td>\n",
       "      <td>0.101288</td>\n",
       "      <td>-0.339846</td>\n",
       "      <td>0.167170</td>\n",
       "      <td>0.125895</td>\n",
       "      <td>-0.008983</td>\n",
       "      <td>0.014724</td>\n",
       "      <td>2.69</td>\n",
       "      <td>0</td>\n",
       "    </tr>\n",
       "    <tr>\n",
       "      <th>2</th>\n",
       "      <td>1.0</td>\n",
       "      <td>-1.358354</td>\n",
       "      <td>-1.340163</td>\n",
       "      <td>1.773209</td>\n",
       "      <td>0.379780</td>\n",
       "      <td>-0.503198</td>\n",
       "      <td>1.800499</td>\n",
       "      <td>0.791461</td>\n",
       "      <td>0.247676</td>\n",
       "      <td>-1.514654</td>\n",
       "      <td>...</td>\n",
       "      <td>0.247998</td>\n",
       "      <td>0.771679</td>\n",
       "      <td>0.909412</td>\n",
       "      <td>-0.689281</td>\n",
       "      <td>-0.327642</td>\n",
       "      <td>-0.139097</td>\n",
       "      <td>-0.055353</td>\n",
       "      <td>-0.059752</td>\n",
       "      <td>378.66</td>\n",
       "      <td>0</td>\n",
       "    </tr>\n",
       "  </tbody>\n",
       "</table>\n",
       "<p>3 rows × 31 columns</p>\n",
       "</div>"
      ],
      "text/plain": [
       "   Time        V1        V2        V3        V4        V5        V6        V7  \\\n",
       "0   0.0 -1.359807 -0.072781  2.536347  1.378155 -0.338321  0.462388  0.239599   \n",
       "1   0.0  1.191857  0.266151  0.166480  0.448154  0.060018 -0.082361 -0.078803   \n",
       "2   1.0 -1.358354 -1.340163  1.773209  0.379780 -0.503198  1.800499  0.791461   \n",
       "\n",
       "         V8        V9  ...       V21       V22       V23       V24       V25  \\\n",
       "0  0.098698  0.363787  ... -0.018307  0.277838 -0.110474  0.066928  0.128539   \n",
       "1  0.085102 -0.255425  ... -0.225775 -0.638672  0.101288 -0.339846  0.167170   \n",
       "2  0.247676 -1.514654  ...  0.247998  0.771679  0.909412 -0.689281 -0.327642   \n",
       "\n",
       "        V26       V27       V28  Amount  Class  \n",
       "0 -0.189115  0.133558 -0.021053  149.62      0  \n",
       "1  0.125895 -0.008983  0.014724    2.69      0  \n",
       "2 -0.139097 -0.055353 -0.059752  378.66      0  \n",
       "\n",
       "[3 rows x 31 columns]"
      ]
     },
     "execution_count": 6,
     "metadata": {},
     "output_type": "execute_result"
    }
   ],
   "source": [
    "df.head (3)"
   ]
  },
  {
   "cell_type": "code",
   "execution_count": 7,
   "metadata": {},
   "outputs": [
    {
     "data": {
      "text/plain": [
       "(284807, 31)"
      ]
     },
     "execution_count": 7,
     "metadata": {},
     "output_type": "execute_result"
    }
   ],
   "source": [
    "df.shape"
   ]
  },
  {
   "cell_type": "markdown",
   "metadata": {},
   "source": [
    "- PCA features that cannot be disclosed\n",
    "- Time: the seconds elapsed between each transaction and the first transaction in the dataset."
   ]
  },
  {
   "cell_type": "code",
   "execution_count": 8,
   "metadata": {},
   "outputs": [
    {
     "data": {
      "text/plain": [
       "Class\n",
       "0    284315\n",
       "1       492\n",
       "Name: Class, dtype: int64"
      ]
     },
     "execution_count": 8,
     "metadata": {},
     "output_type": "execute_result"
    }
   ],
   "source": [
    "df.groupby('Class')['Class'].count()"
   ]
  },
  {
   "cell_type": "code",
   "execution_count": 22,
   "metadata": {},
   "outputs": [
    {
     "data": {
      "text/plain": [
       "0.001727485630620034"
      ]
     },
     "execution_count": 22,
     "metadata": {},
     "output_type": "execute_result"
    }
   ],
   "source": [
    "492/(492+284315)"
   ]
  },
  {
   "cell_type": "markdown",
   "metadata": {},
   "source": [
    "**Among 284,807 transactions, only 492 are fraud cases.** Given the class imbalance ratio, will measuring the accuracy using the Area Under the Precision-Recall Curve (AUPRC). Confusion matrix accuracy is not meaningful for unbalanced classification."
   ]
  },
  {
   "cell_type": "code",
   "execution_count": 9,
   "metadata": {},
   "outputs": [
    {
     "name": "stdout",
     "output_type": "stream",
     "text": [
      "There are 2848070 observations in the inflated credit card fraud dataset.\n",
      "There are 31 variables in the dataset.\n"
     ]
    },
    {
     "data": {
      "text/html": [
       "<div>\n",
       "<style scoped>\n",
       "    .dataframe tbody tr th:only-of-type {\n",
       "        vertical-align: middle;\n",
       "    }\n",
       "\n",
       "    .dataframe tbody tr th {\n",
       "        vertical-align: top;\n",
       "    }\n",
       "\n",
       "    .dataframe thead th {\n",
       "        text-align: right;\n",
       "    }\n",
       "</style>\n",
       "<table border=\"1\" class=\"dataframe\">\n",
       "  <thead>\n",
       "    <tr style=\"text-align: right;\">\n",
       "      <th></th>\n",
       "      <th>Time</th>\n",
       "      <th>V1</th>\n",
       "      <th>V2</th>\n",
       "      <th>V3</th>\n",
       "      <th>V4</th>\n",
       "      <th>V5</th>\n",
       "      <th>V6</th>\n",
       "      <th>V7</th>\n",
       "      <th>V8</th>\n",
       "      <th>V9</th>\n",
       "      <th>...</th>\n",
       "      <th>V21</th>\n",
       "      <th>V22</th>\n",
       "      <th>V23</th>\n",
       "      <th>V24</th>\n",
       "      <th>V25</th>\n",
       "      <th>V26</th>\n",
       "      <th>V27</th>\n",
       "      <th>V28</th>\n",
       "      <th>Amount</th>\n",
       "      <th>Class</th>\n",
       "    </tr>\n",
       "  </thead>\n",
       "  <tbody>\n",
       "    <tr>\n",
       "      <th>0</th>\n",
       "      <td>0.0</td>\n",
       "      <td>-1.359807</td>\n",
       "      <td>-0.072781</td>\n",
       "      <td>2.536347</td>\n",
       "      <td>1.378155</td>\n",
       "      <td>-0.338321</td>\n",
       "      <td>0.462388</td>\n",
       "      <td>0.239599</td>\n",
       "      <td>0.098698</td>\n",
       "      <td>0.363787</td>\n",
       "      <td>...</td>\n",
       "      <td>-0.018307</td>\n",
       "      <td>0.277838</td>\n",
       "      <td>-0.110474</td>\n",
       "      <td>0.066928</td>\n",
       "      <td>0.128539</td>\n",
       "      <td>-0.189115</td>\n",
       "      <td>0.133558</td>\n",
       "      <td>-0.021053</td>\n",
       "      <td>149.62</td>\n",
       "      <td>0.0</td>\n",
       "    </tr>\n",
       "    <tr>\n",
       "      <th>1</th>\n",
       "      <td>0.0</td>\n",
       "      <td>-1.359807</td>\n",
       "      <td>-0.072781</td>\n",
       "      <td>2.536347</td>\n",
       "      <td>1.378155</td>\n",
       "      <td>-0.338321</td>\n",
       "      <td>0.462388</td>\n",
       "      <td>0.239599</td>\n",
       "      <td>0.098698</td>\n",
       "      <td>0.363787</td>\n",
       "      <td>...</td>\n",
       "      <td>-0.018307</td>\n",
       "      <td>0.277838</td>\n",
       "      <td>-0.110474</td>\n",
       "      <td>0.066928</td>\n",
       "      <td>0.128539</td>\n",
       "      <td>-0.189115</td>\n",
       "      <td>0.133558</td>\n",
       "      <td>-0.021053</td>\n",
       "      <td>149.62</td>\n",
       "      <td>0.0</td>\n",
       "    </tr>\n",
       "    <tr>\n",
       "      <th>2</th>\n",
       "      <td>0.0</td>\n",
       "      <td>-1.359807</td>\n",
       "      <td>-0.072781</td>\n",
       "      <td>2.536347</td>\n",
       "      <td>1.378155</td>\n",
       "      <td>-0.338321</td>\n",
       "      <td>0.462388</td>\n",
       "      <td>0.239599</td>\n",
       "      <td>0.098698</td>\n",
       "      <td>0.363787</td>\n",
       "      <td>...</td>\n",
       "      <td>-0.018307</td>\n",
       "      <td>0.277838</td>\n",
       "      <td>-0.110474</td>\n",
       "      <td>0.066928</td>\n",
       "      <td>0.128539</td>\n",
       "      <td>-0.189115</td>\n",
       "      <td>0.133558</td>\n",
       "      <td>-0.021053</td>\n",
       "      <td>149.62</td>\n",
       "      <td>0.0</td>\n",
       "    </tr>\n",
       "    <tr>\n",
       "      <th>3</th>\n",
       "      <td>0.0</td>\n",
       "      <td>-1.359807</td>\n",
       "      <td>-0.072781</td>\n",
       "      <td>2.536347</td>\n",
       "      <td>1.378155</td>\n",
       "      <td>-0.338321</td>\n",
       "      <td>0.462388</td>\n",
       "      <td>0.239599</td>\n",
       "      <td>0.098698</td>\n",
       "      <td>0.363787</td>\n",
       "      <td>...</td>\n",
       "      <td>-0.018307</td>\n",
       "      <td>0.277838</td>\n",
       "      <td>-0.110474</td>\n",
       "      <td>0.066928</td>\n",
       "      <td>0.128539</td>\n",
       "      <td>-0.189115</td>\n",
       "      <td>0.133558</td>\n",
       "      <td>-0.021053</td>\n",
       "      <td>149.62</td>\n",
       "      <td>0.0</td>\n",
       "    </tr>\n",
       "    <tr>\n",
       "      <th>4</th>\n",
       "      <td>0.0</td>\n",
       "      <td>-1.359807</td>\n",
       "      <td>-0.072781</td>\n",
       "      <td>2.536347</td>\n",
       "      <td>1.378155</td>\n",
       "      <td>-0.338321</td>\n",
       "      <td>0.462388</td>\n",
       "      <td>0.239599</td>\n",
       "      <td>0.098698</td>\n",
       "      <td>0.363787</td>\n",
       "      <td>...</td>\n",
       "      <td>-0.018307</td>\n",
       "      <td>0.277838</td>\n",
       "      <td>-0.110474</td>\n",
       "      <td>0.066928</td>\n",
       "      <td>0.128539</td>\n",
       "      <td>-0.189115</td>\n",
       "      <td>0.133558</td>\n",
       "      <td>-0.021053</td>\n",
       "      <td>149.62</td>\n",
       "      <td>0.0</td>\n",
       "    </tr>\n",
       "  </tbody>\n",
       "</table>\n",
       "<p>5 rows × 31 columns</p>\n",
       "</div>"
      ],
      "text/plain": [
       "   Time        V1        V2        V3        V4        V5        V6        V7  \\\n",
       "0   0.0 -1.359807 -0.072781  2.536347  1.378155 -0.338321  0.462388  0.239599   \n",
       "1   0.0 -1.359807 -0.072781  2.536347  1.378155 -0.338321  0.462388  0.239599   \n",
       "2   0.0 -1.359807 -0.072781  2.536347  1.378155 -0.338321  0.462388  0.239599   \n",
       "3   0.0 -1.359807 -0.072781  2.536347  1.378155 -0.338321  0.462388  0.239599   \n",
       "4   0.0 -1.359807 -0.072781  2.536347  1.378155 -0.338321  0.462388  0.239599   \n",
       "\n",
       "         V8        V9  ...       V21       V22       V23       V24       V25  \\\n",
       "0  0.098698  0.363787  ... -0.018307  0.277838 -0.110474  0.066928  0.128539   \n",
       "1  0.098698  0.363787  ... -0.018307  0.277838 -0.110474  0.066928  0.128539   \n",
       "2  0.098698  0.363787  ... -0.018307  0.277838 -0.110474  0.066928  0.128539   \n",
       "3  0.098698  0.363787  ... -0.018307  0.277838 -0.110474  0.066928  0.128539   \n",
       "4  0.098698  0.363787  ... -0.018307  0.277838 -0.110474  0.066928  0.128539   \n",
       "\n",
       "        V26       V27       V28  Amount  Class  \n",
       "0 -0.189115  0.133558 -0.021053  149.62    0.0  \n",
       "1 -0.189115  0.133558 -0.021053  149.62    0.0  \n",
       "2 -0.189115  0.133558 -0.021053  149.62    0.0  \n",
       "3 -0.189115  0.133558 -0.021053  149.62    0.0  \n",
       "4 -0.189115  0.133558 -0.021053  149.62    0.0  \n",
       "\n",
       "[5 rows x 31 columns]"
      ]
     },
     "execution_count": 9,
     "metadata": {},
     "output_type": "execute_result"
    }
   ],
   "source": [
    "# inflate the original dataset\n",
    "n_replicas = 10\n",
    "big_df = pd.DataFrame(np.repeat(df.values, n_replicas, axis=0), columns=df.columns)\n",
    "\n",
    "print(\"There are \" + str(len(big_df)) + \" observations in the inflated credit card fraud dataset.\")\n",
    "print(\"There are \" + str(len(big_df.columns)) + \" variables in the dataset.\")\n",
    "\n",
    "# display first rows in the new dataset\n",
    "big_df.head()"
   ]
  },
  {
   "cell_type": "code",
   "execution_count": 10,
   "metadata": {},
   "outputs": [
    {
     "data": {
      "image/png": "[encoded data removed]",
      "text/plain": [
       "<Figure size 640x480 with 1 Axes>"
      ]
     },
     "metadata": {},
     "output_type": "display_data"
    },
    {
     "name": "stdout",
     "output_type": "stream",
     "text": [
      "Minimum amount value is  0.0\n",
      "Minimum amount value is  25691.16\n",
      "90% of the transactions have an amount less or equal than  203.0\n"
     ]
    }
   ],
   "source": [
    "#plot a histogram that shows the distribution of amount\n",
    "plt.hist(big_df['Amount'], bins=50)\n",
    "plt.show()\n",
    "print(\"Minimum amount value is \", big_df['Amount'].min())\n",
    "print(\"Minimum amount value is \", big_df['Amount'].max())\n",
    "print(\"90% of the transactions have an amount less or equal than \", np.percentile(big_df['Amount'], 90))"
   ]
  },
  {
   "cell_type": "markdown",
   "metadata": {},
   "source": [
    "## Data Preprocessing"
   ]
  },
  {
   "cell_type": "code",
   "execution_count": 11,
   "metadata": {},
   "outputs": [
    {
     "name": "stdout",
     "output_type": "stream",
     "text": [
      "current pca feature mean: Time      9.481386e+04\n",
      "V1       -1.324446e-14\n",
      "V2        1.340438e-15\n",
      "V3        6.550136e-14\n",
      "V4        1.197344e-14\n",
      "V5        2.283693e-14\n",
      "V6        7.783620e-15\n",
      "V7       -7.100028e-15\n",
      "V8        2.583222e-15\n",
      "V9       -6.537487e-15\n",
      "V10       6.182062e-16\n",
      "V11       2.134577e-14\n",
      "V12      -2.236347e-15\n",
      "V13       3.609760e-15\n",
      "V14      -3.064187e-15\n",
      "V15       3.201737e-15\n",
      "V16       3.179961e-15\n",
      "V17       3.004713e-16\n",
      "V18       4.668248e-16\n",
      "V19       1.277251e-15\n",
      "V20       3.623509e-15\n",
      "V21      -1.518032e-15\n",
      "V22      -5.775379e-15\n",
      "V23      -1.459613e-15\n",
      "V24       3.022581e-15\n",
      "V25       3.452266e-15\n",
      "V26       3.369411e-15\n",
      "V27      -2.127629e-16\n",
      "V28      -2.997992e-16\n",
      "Amount    8.834962e+01\n",
      "Class     1.727486e-03\n",
      "dtype: float64\n"
     ]
    }
   ],
   "source": [
    "#print('current pca feature mean:', np.mean(big_df, axis=0))  #mean should be close to 0"
   ]
  },
  {
   "cell_type": "code",
   "execution_count": 12,
   "metadata": {},
   "outputs": [],
   "source": [
    "# data preprocessing such as scaling/normalization is typically useful for linear models to accelerate the training convergence\n",
    "from sklearn.preprocessing import StandardScaler\n",
    "from sklearn.preprocessing import normalize"
   ]
  },
  {
   "cell_type": "code",
   "execution_count": 13,
   "metadata": {},
   "outputs": [],
   "source": [
    "big_df.columns \n",
    "#exclue Time feature\n",
    "Z = big_df[['V1', 'V2', 'V3', 'V4', 'V5', 'V6', 'V7', 'V8', 'V9', 'V10',\n",
    "       'V11', 'V12', 'V13', 'V14', 'V15', 'V16', 'V17', 'V18', 'V19', 'V20',\n",
    "       'V21', 'V22', 'V23', 'V24', 'V25', 'V26', 'V27', 'V28', 'Amount']]\n",
    "Y = big_df['Class']"
   ]
  },
  {
   "cell_type": "code",
   "execution_count": 15,
   "metadata": {},
   "outputs": [],
   "source": [
    "# Standardize Z\n",
    "standardize = StandardScaler()\n",
    "Z_stand = standardize.fit_transform(Z)"
   ]
  },
  {
   "cell_type": "code",
   "execution_count": 16,
   "metadata": {},
   "outputs": [],
   "source": [
    "# normalize Z\n",
    "normlizer = normalize(Z_stand,norm='l1')"
   ]
  },
  {
   "cell_type": "code",
   "execution_count": 17,
   "metadata": {},
   "outputs": [
    {
     "data": {
      "text/html": [
       "<div>\n",
       "<style scoped>\n",
       "    .dataframe tbody tr th:only-of-type {\n",
       "        vertical-align: middle;\n",
       "    }\n",
       "\n",
       "    .dataframe tbody tr th {\n",
       "        vertical-align: top;\n",
       "    }\n",
       "\n",
       "    .dataframe thead th {\n",
       "        text-align: right;\n",
       "    }\n",
       "</style>\n",
       "<table border=\"1\" class=\"dataframe\">\n",
       "  <thead>\n",
       "    <tr style=\"text-align: right;\">\n",
       "      <th></th>\n",
       "      <th>V1</th>\n",
       "      <th>V2</th>\n",
       "      <th>V3</th>\n",
       "      <th>V4</th>\n",
       "      <th>V5</th>\n",
       "      <th>V6</th>\n",
       "      <th>V7</th>\n",
       "      <th>V8</th>\n",
       "      <th>V9</th>\n",
       "      <th>V10</th>\n",
       "      <th>...</th>\n",
       "      <th>V20</th>\n",
       "      <th>V21</th>\n",
       "      <th>V22</th>\n",
       "      <th>V23</th>\n",
       "      <th>V24</th>\n",
       "      <th>V25</th>\n",
       "      <th>V26</th>\n",
       "      <th>V27</th>\n",
       "      <th>V28</th>\n",
       "      <th>Amount</th>\n",
       "    </tr>\n",
       "  </thead>\n",
       "  <tbody>\n",
       "    <tr>\n",
       "      <th>0</th>\n",
       "      <td>-0.056171</td>\n",
       "      <td>-0.003566</td>\n",
       "      <td>0.135345</td>\n",
       "      <td>0.078755</td>\n",
       "      <td>-0.019832</td>\n",
       "      <td>0.028081</td>\n",
       "      <td>0.015671</td>\n",
       "      <td>0.006686</td>\n",
       "      <td>0.026792</td>\n",
       "      <td>0.006747</td>\n",
       "      <td>...</td>\n",
       "      <td>0.026386</td>\n",
       "      <td>-0.002017</td>\n",
       "      <td>0.030977</td>\n",
       "      <td>-0.014314</td>\n",
       "      <td>0.008941</td>\n",
       "      <td>0.019951</td>\n",
       "      <td>-0.031731</td>\n",
       "      <td>0.026773</td>\n",
       "      <td>-0.005161</td>\n",
       "      <td>0.019820</td>\n",
       "    </tr>\n",
       "    <tr>\n",
       "      <th>1</th>\n",
       "      <td>-0.056171</td>\n",
       "      <td>-0.003566</td>\n",
       "      <td>0.135345</td>\n",
       "      <td>0.078755</td>\n",
       "      <td>-0.019832</td>\n",
       "      <td>0.028081</td>\n",
       "      <td>0.015671</td>\n",
       "      <td>0.006686</td>\n",
       "      <td>0.026792</td>\n",
       "      <td>0.006747</td>\n",
       "      <td>...</td>\n",
       "      <td>0.026386</td>\n",
       "      <td>-0.002017</td>\n",
       "      <td>0.030977</td>\n",
       "      <td>-0.014314</td>\n",
       "      <td>0.008941</td>\n",
       "      <td>0.019951</td>\n",
       "      <td>-0.031731</td>\n",
       "      <td>0.026773</td>\n",
       "      <td>-0.005161</td>\n",
       "      <td>0.019820</td>\n",
       "    </tr>\n",
       "    <tr>\n",
       "      <th>2</th>\n",
       "      <td>-0.056171</td>\n",
       "      <td>-0.003566</td>\n",
       "      <td>0.135345</td>\n",
       "      <td>0.078755</td>\n",
       "      <td>-0.019832</td>\n",
       "      <td>0.028081</td>\n",
       "      <td>0.015671</td>\n",
       "      <td>0.006686</td>\n",
       "      <td>0.026792</td>\n",
       "      <td>0.006747</td>\n",
       "      <td>...</td>\n",
       "      <td>0.026386</td>\n",
       "      <td>-0.002017</td>\n",
       "      <td>0.030977</td>\n",
       "      <td>-0.014314</td>\n",
       "      <td>0.008941</td>\n",
       "      <td>0.019951</td>\n",
       "      <td>-0.031731</td>\n",
       "      <td>0.026773</td>\n",
       "      <td>-0.005161</td>\n",
       "      <td>0.019820</td>\n",
       "    </tr>\n",
       "    <tr>\n",
       "      <th>3</th>\n",
       "      <td>-0.056171</td>\n",
       "      <td>-0.003566</td>\n",
       "      <td>0.135345</td>\n",
       "      <td>0.078755</td>\n",
       "      <td>-0.019832</td>\n",
       "      <td>0.028081</td>\n",
       "      <td>0.015671</td>\n",
       "      <td>0.006686</td>\n",
       "      <td>0.026792</td>\n",
       "      <td>0.006747</td>\n",
       "      <td>...</td>\n",
       "      <td>0.026386</td>\n",
       "      <td>-0.002017</td>\n",
       "      <td>0.030977</td>\n",
       "      <td>-0.014314</td>\n",
       "      <td>0.008941</td>\n",
       "      <td>0.019951</td>\n",
       "      <td>-0.031731</td>\n",
       "      <td>0.026773</td>\n",
       "      <td>-0.005161</td>\n",
       "      <td>0.019820</td>\n",
       "    </tr>\n",
       "    <tr>\n",
       "      <th>4</th>\n",
       "      <td>-0.056171</td>\n",
       "      <td>-0.003566</td>\n",
       "      <td>0.135345</td>\n",
       "      <td>0.078755</td>\n",
       "      <td>-0.019832</td>\n",
       "      <td>0.028081</td>\n",
       "      <td>0.015671</td>\n",
       "      <td>0.006686</td>\n",
       "      <td>0.026792</td>\n",
       "      <td>0.006747</td>\n",
       "      <td>...</td>\n",
       "      <td>0.026386</td>\n",
       "      <td>-0.002017</td>\n",
       "      <td>0.030977</td>\n",
       "      <td>-0.014314</td>\n",
       "      <td>0.008941</td>\n",
       "      <td>0.019951</td>\n",
       "      <td>-0.031731</td>\n",
       "      <td>0.026773</td>\n",
       "      <td>-0.005161</td>\n",
       "      <td>0.019820</td>\n",
       "    </tr>\n",
       "    <tr>\n",
       "      <th>...</th>\n",
       "      <td>...</td>\n",
       "      <td>...</td>\n",
       "      <td>...</td>\n",
       "      <td>...</td>\n",
       "      <td>...</td>\n",
       "      <td>...</td>\n",
       "      <td>...</td>\n",
       "      <td>...</td>\n",
       "      <td>...</td>\n",
       "      <td>...</td>\n",
       "      <td>...</td>\n",
       "      <td>...</td>\n",
       "      <td>...</td>\n",
       "      <td>...</td>\n",
       "      <td>...</td>\n",
       "      <td>...</td>\n",
       "      <td>...</td>\n",
       "      <td>...</td>\n",
       "      <td>...</td>\n",
       "      <td>...</td>\n",
       "      <td>...</td>\n",
       "    </tr>\n",
       "    <tr>\n",
       "      <th>2848065</th>\n",
       "      <td>-0.020719</td>\n",
       "      <td>-0.008741</td>\n",
       "      <td>0.035291</td>\n",
       "      <td>-0.027204</td>\n",
       "      <td>-0.000692</td>\n",
       "      <td>-0.037096</td>\n",
       "      <td>0.096984</td>\n",
       "      <td>-0.026413</td>\n",
       "      <td>0.033668</td>\n",
       "      <td>-0.063962</td>\n",
       "      <td>...</td>\n",
       "      <td>0.037792</td>\n",
       "      <td>0.027039</td>\n",
       "      <td>0.067418</td>\n",
       "      <td>0.045904</td>\n",
       "      <td>0.001105</td>\n",
       "      <td>-0.069128</td>\n",
       "      <td>-0.129095</td>\n",
       "      <td>-0.000455</td>\n",
       "      <td>0.003146</td>\n",
       "      <td>0.039132</td>\n",
       "    </tr>\n",
       "    <tr>\n",
       "      <th>2848066</th>\n",
       "      <td>-0.020719</td>\n",
       "      <td>-0.008741</td>\n",
       "      <td>0.035291</td>\n",
       "      <td>-0.027204</td>\n",
       "      <td>-0.000692</td>\n",
       "      <td>-0.037096</td>\n",
       "      <td>0.096984</td>\n",
       "      <td>-0.026413</td>\n",
       "      <td>0.033668</td>\n",
       "      <td>-0.063962</td>\n",
       "      <td>...</td>\n",
       "      <td>0.037792</td>\n",
       "      <td>0.027039</td>\n",
       "      <td>0.067418</td>\n",
       "      <td>0.045904</td>\n",
       "      <td>0.001105</td>\n",
       "      <td>-0.069128</td>\n",
       "      <td>-0.129095</td>\n",
       "      <td>-0.000455</td>\n",
       "      <td>0.003146</td>\n",
       "      <td>0.039132</td>\n",
       "    </tr>\n",
       "    <tr>\n",
       "      <th>2848067</th>\n",
       "      <td>-0.020719</td>\n",
       "      <td>-0.008741</td>\n",
       "      <td>0.035291</td>\n",
       "      <td>-0.027204</td>\n",
       "      <td>-0.000692</td>\n",
       "      <td>-0.037096</td>\n",
       "      <td>0.096984</td>\n",
       "      <td>-0.026413</td>\n",
       "      <td>0.033668</td>\n",
       "      <td>-0.063962</td>\n",
       "      <td>...</td>\n",
       "      <td>0.037792</td>\n",
       "      <td>0.027039</td>\n",
       "      <td>0.067418</td>\n",
       "      <td>0.045904</td>\n",
       "      <td>0.001105</td>\n",
       "      <td>-0.069128</td>\n",
       "      <td>-0.129095</td>\n",
       "      <td>-0.000455</td>\n",
       "      <td>0.003146</td>\n",
       "      <td>0.039132</td>\n",
       "    </tr>\n",
       "    <tr>\n",
       "      <th>2848068</th>\n",
       "      <td>-0.020719</td>\n",
       "      <td>-0.008741</td>\n",
       "      <td>0.035291</td>\n",
       "      <td>-0.027204</td>\n",
       "      <td>-0.000692</td>\n",
       "      <td>-0.037096</td>\n",
       "      <td>0.096984</td>\n",
       "      <td>-0.026413</td>\n",
       "      <td>0.033668</td>\n",
       "      <td>-0.063962</td>\n",
       "      <td>...</td>\n",
       "      <td>0.037792</td>\n",
       "      <td>0.027039</td>\n",
       "      <td>0.067418</td>\n",
       "      <td>0.045904</td>\n",
       "      <td>0.001105</td>\n",
       "      <td>-0.069128</td>\n",
       "      <td>-0.129095</td>\n",
       "      <td>-0.000455</td>\n",
       "      <td>0.003146</td>\n",
       "      <td>0.039132</td>\n",
       "    </tr>\n",
       "    <tr>\n",
       "      <th>2848069</th>\n",
       "      <td>-0.020719</td>\n",
       "      <td>-0.008741</td>\n",
       "      <td>0.035291</td>\n",
       "      <td>-0.027204</td>\n",
       "      <td>-0.000692</td>\n",
       "      <td>-0.037096</td>\n",
       "      <td>0.096984</td>\n",
       "      <td>-0.026413</td>\n",
       "      <td>0.033668</td>\n",
       "      <td>-0.063962</td>\n",
       "      <td>...</td>\n",
       "      <td>0.037792</td>\n",
       "      <td>0.027039</td>\n",
       "      <td>0.067418</td>\n",
       "      <td>0.045904</td>\n",
       "      <td>0.001105</td>\n",
       "      <td>-0.069128</td>\n",
       "      <td>-0.129095</td>\n",
       "      <td>-0.000455</td>\n",
       "      <td>0.003146</td>\n",
       "      <td>0.039132</td>\n",
       "    </tr>\n",
       "  </tbody>\n",
       "</table>\n",
       "<p>2848070 rows × 29 columns</p>\n",
       "</div>"
      ],
      "text/plain": [
       "               V1        V2        V3        V4        V5        V6        V7  \\\n",
       "0       -0.056171 -0.003566  0.135345  0.078755 -0.019832  0.028081  0.015671   \n",
       "1       -0.056171 -0.003566  0.135345  0.078755 -0.019832  0.028081  0.015671   \n",
       "2       -0.056171 -0.003566  0.135345  0.078755 -0.019832  0.028081  0.015671   \n",
       "3       -0.056171 -0.003566  0.135345  0.078755 -0.019832  0.028081  0.015671   \n",
       "4       -0.056171 -0.003566  0.135345  0.078755 -0.019832  0.028081  0.015671   \n",
       "...           ...       ...       ...       ...       ...       ...       ...   \n",
       "2848065 -0.020719 -0.008741  0.035291 -0.027204 -0.000692 -0.037096  0.096984   \n",
       "2848066 -0.020719 -0.008741  0.035291 -0.027204 -0.000692 -0.037096  0.096984   \n",
       "2848067 -0.020719 -0.008741  0.035291 -0.027204 -0.000692 -0.037096  0.096984   \n",
       "2848068 -0.020719 -0.008741  0.035291 -0.027204 -0.000692 -0.037096  0.096984   \n",
       "2848069 -0.020719 -0.008741  0.035291 -0.027204 -0.000692 -0.037096  0.096984   \n",
       "\n",
       "               V8        V9       V10  ...       V20       V21       V22  \\\n",
       "0        0.006686  0.026792  0.006747  ...  0.026386 -0.002017  0.030977   \n",
       "1        0.006686  0.026792  0.006747  ...  0.026386 -0.002017  0.030977   \n",
       "2        0.006686  0.026792  0.006747  ...  0.026386 -0.002017  0.030977   \n",
       "3        0.006686  0.026792  0.006747  ...  0.026386 -0.002017  0.030977   \n",
       "4        0.006686  0.026792  0.006747  ...  0.026386 -0.002017  0.030977   \n",
       "...           ...       ...       ...  ...       ...       ...       ...   \n",
       "2848065 -0.026413  0.033668 -0.063962  ...  0.037792  0.027039  0.067418   \n",
       "2848066 -0.026413  0.033668 -0.063962  ...  0.037792  0.027039  0.067418   \n",
       "2848067 -0.026413  0.033668 -0.063962  ...  0.037792  0.027039  0.067418   \n",
       "2848068 -0.026413  0.033668 -0.063962  ...  0.037792  0.027039  0.067418   \n",
       "2848069 -0.026413  0.033668 -0.063962  ...  0.037792  0.027039  0.067418   \n",
       "\n",
       "              V23       V24       V25       V26       V27       V28    Amount  \n",
       "0       -0.014314  0.008941  0.019951 -0.031731  0.026773 -0.005161  0.019820  \n",
       "1       -0.014314  0.008941  0.019951 -0.031731  0.026773 -0.005161  0.019820  \n",
       "2       -0.014314  0.008941  0.019951 -0.031731  0.026773 -0.005161  0.019820  \n",
       "3       -0.014314  0.008941  0.019951 -0.031731  0.026773 -0.005161  0.019820  \n",
       "4       -0.014314  0.008941  0.019951 -0.031731  0.026773 -0.005161  0.019820  \n",
       "...           ...       ...       ...       ...       ...       ...       ...  \n",
       "2848065  0.045904  0.001105 -0.069128 -0.129095 -0.000455  0.003146  0.039132  \n",
       "2848066  0.045904  0.001105 -0.069128 -0.129095 -0.000455  0.003146  0.039132  \n",
       "2848067  0.045904  0.001105 -0.069128 -0.129095 -0.000455  0.003146  0.039132  \n",
       "2848068  0.045904  0.001105 -0.069128 -0.129095 -0.000455  0.003146  0.039132  \n",
       "2848069  0.045904  0.001105 -0.069128 -0.129095 -0.000455  0.003146  0.039132  \n",
       "\n",
       "[2848070 rows x 29 columns]"
      ]
     },
     "execution_count": 17,
     "metadata": {},
     "output_type": "execute_result"
    }
   ],
   "source": [
    "Z_new = pd.DataFrame(normlizer, columns=Z.columns)\n",
    "Z_new"
   ]
  },
  {
   "cell_type": "markdown",
   "metadata": {},
   "source": [
    "## Model Building"
   ]
  },
  {
   "cell_type": "code",
   "execution_count": 18,
   "metadata": {},
   "outputs": [],
   "source": [
    "from sklearn.model_selection import train_test_split\n",
    "from sklearn.utils.class_weight import compute_sample_weight\n",
    "from sklearn.metrics import roc_auc_score"
   ]
  },
  {
   "cell_type": "code",
   "execution_count": 19,
   "metadata": {},
   "outputs": [
    {
     "name": "stdout",
     "output_type": "stream",
     "text": [
      "X_train.shape= (1993649, 29) Y_train.shape= (1993649,)\n",
      "X_test.shape= (854421, 29) Y_test.shape= (854421,)\n"
     ]
    }
   ],
   "source": [
    "# split train and test dataset\n",
    "\n",
    "x_train, x_test, y_train, y_test = train_test_split(Z_new,Y,test_size=0.3,stratify=Y, random_state=4)\n",
    "# add the stratify parameter in train_test_split ensures that the proportions of the classes in the target variable (y) are preserved in both the training and testing datasets.\n",
    "# This is particularly important when the dataset is imbalanced, meaning one class significantly outnumbers the others.\n",
    "\n",
    "print('X_train.shape=', x_train.shape, 'Y_train.shape=', y_train.shape)\n",
    "print('X_test.shape=', x_test.shape, 'Y_test.shape=', y_test.shape)"
   ]
  },
  {
   "cell_type": "markdown",
   "metadata": {},
   "source": [
    "### Decision Tree"
   ]
  },
  {
   "cell_type": "code",
   "execution_count": 21,
   "metadata": {},
   "outputs": [],
   "source": [
    "from sklearn.utils.class_weight import compute_sample_weight"
   ]
  },
  {
   "cell_type": "code",
   "execution_count": 24,
   "metadata": {},
   "outputs": [
    {
     "data": {
      "text/plain": [
       "array([0.50086524, 0.50086524, 0.50086524, ..., 0.50086524, 0.50086524,\n",
       "       0.50086524])"
      ]
     },
     "execution_count": 24,
     "metadata": {},
     "output_type": "execute_result"
    }
   ],
   "source": [
    "#Compute the sample weights to be used as input to the train routine so that it takes into account the class imbalance present in this dataset\n",
    "#only 0.17% among all observations are fraud transactions\n",
    "w_train = compute_sample_weight('balanced', y_train)\n",
    "w_train"
   ]
  },
  {
   "cell_type": "code",
   "execution_count": 25,
   "metadata": {},
   "outputs": [
    {
     "data": {
      "text/html": [
       "<style>#sk-container-id-1 {color: black;background-color: white;}#sk-container-id-1 pre{padding: 0;}#sk-container-id-1 div.sk-toggleable {background-color: white;}#sk-container-id-1 label.sk-toggleable__label {cursor: pointer;display: block;width: 100%;margin-bottom: 0;padding: 0.3em;box-sizing: border-box;text-align: center;}#sk-container-id-1 label.sk-toggleable__label-arrow:before {content: \"▸\";float: left;margin-right: 0.25em;color: #696969;}#sk-container-id-1 label.sk-toggleable__label-arrow:hover:before {color: black;}#sk-container-id-1 div.sk-estimator:hover label.sk-toggleable__label-arrow:before {color: black;}#sk-container-id-1 div.sk-toggleable__content {max-height: 0;max-width: 0;overflow: hidden;text-align: left;background-color: #f0f8ff;}#sk-container-id-1 div.sk-toggleable__content pre {margin: 0.2em;color: black;border-radius: 0.25em;background-color: #f0f8ff;}#sk-container-id-1 input.sk-toggleable__control:checked~div.sk-toggleable__content {max-height: 200px;max-width: 100%;overflow: auto;}#sk-container-id-1 input.sk-toggleable__control:checked~label.sk-toggleable__label-arrow:before {content: \"▾\";}#sk-container-id-1 div.sk-estimator input.sk-toggleable__control:checked~label.sk-toggleable__label {background-color: #d4ebff;}#sk-container-id-1 div.sk-label input.sk-toggleable__control:checked~label.sk-toggleable__label {background-color: #d4ebff;}#sk-container-id-1 input.sk-hidden--visually {border: 0;clip: rect(1px 1px 1px 1px);clip: rect(1px, 1px, 1px, 1px);height: 1px;margin: -1px;overflow: hidden;padding: 0;position: absolute;width: 1px;}#sk-container-id-1 div.sk-estimator {font-family: monospace;background-color: #f0f8ff;border: 1px dotted black;border-radius: 0.25em;box-sizing: border-box;margin-bottom: 0.5em;}#sk-container-id-1 div.sk-estimator:hover {background-color: #d4ebff;}#sk-container-id-1 div.sk-parallel-item::after {content: \"\";width: 100%;border-bottom: 1px solid gray;flex-grow: 1;}#sk-container-id-1 div.sk-label:hover label.sk-toggleable__label {background-color: #d4ebff;}#sk-container-id-1 div.sk-serial::before {content: \"\";position: absolute;border-left: 1px solid gray;box-sizing: border-box;top: 0;bottom: 0;left: 50%;z-index: 0;}#sk-container-id-1 div.sk-serial {display: flex;flex-direction: column;align-items: center;background-color: white;padding-right: 0.2em;padding-left: 0.2em;position: relative;}#sk-container-id-1 div.sk-item {position: relative;z-index: 1;}#sk-container-id-1 div.sk-parallel {display: flex;align-items: stretch;justify-content: center;background-color: white;position: relative;}#sk-container-id-1 div.sk-item::before, #sk-container-id-1 div.sk-parallel-item::before {content: \"\";position: absolute;border-left: 1px solid gray;box-sizing: border-box;top: 0;bottom: 0;left: 50%;z-index: -1;}#sk-container-id-1 div.sk-parallel-item {display: flex;flex-direction: column;z-index: 1;position: relative;background-color: white;}#sk-container-id-1 div.sk-parallel-item:first-child::after {align-self: flex-end;width: 50%;}#sk-container-id-1 div.sk-parallel-item:last-child::after {align-self: flex-start;width: 50%;}#sk-container-id-1 div.sk-parallel-item:only-child::after {width: 0;}#sk-container-id-1 div.sk-dashed-wrapped {border: 1px dashed gray;margin: 0 0.4em 0.5em 0.4em;box-sizing: border-box;padding-bottom: 0.4em;background-color: white;}#sk-container-id-1 div.sk-label label {font-family: monospace;font-weight: bold;display: inline-block;line-height: 1.2em;}#sk-container-id-1 div.sk-label-container {text-align: center;}#sk-container-id-1 div.sk-container {/* jupyter's `normalize.less` sets `[hidden] { display: none; }` but bootstrap.min.css set `[hidden] { display: none !important; }` so we also need the `!important` here to be able to override the default hidden behavior on the sphinx rendered scikit-learn.org. See: https://github.com/scikit-learn/scikit-learn/issues/21755 */display: inline-block !important;position: relative;}#sk-container-id-1 div.sk-text-repr-fallback {display: none;}</style><div id=\"sk-container-id-1\" class=\"sk-top-container\"><div class=\"sk-text-repr-fallback\"><pre>DecisionTreeClassifier(max_depth=4, random_state=35)</pre><b>In a Jupyter environment, please rerun this cell to show the HTML representation or trust the notebook. <br />On GitHub, the HTML representation is unable to render, please try loading this page with nbviewer.org.</b></div><div class=\"sk-container\" hidden><div class=\"sk-item\"><div class=\"sk-estimator sk-toggleable\"><input class=\"sk-toggleable__control sk-hidden--visually\" id=\"sk-estimator-id-1\" type=\"checkbox\" checked><label for=\"sk-estimator-id-1\" class=\"sk-toggleable__label sk-toggleable__label-arrow\">DecisionTreeClassifier</label><div class=\"sk-toggleable__content\"><pre>DecisionTreeClassifier(max_depth=4, random_state=35)</pre></div></div></div></div></div>"
      ],
      "text/plain": [
       "DecisionTreeClassifier(max_depth=4, random_state=35)"
      ]
     },
     "execution_count": 25,
     "metadata": {},
     "output_type": "execute_result"
    }
   ],
   "source": [
    "\n",
    "# import the Decision Tree Classifier Model from scikit-learn\n",
    "from sklearn.tree import DecisionTreeClassifier\n",
    "\n",
    "# for reproducible output across multiple function calls, set random_state to a given integer value\n",
    "sklearn_dt = DecisionTreeClassifier(max_depth=4, random_state=35)\n",
    "\n",
    "# train a Decision Tree Classifier using scikit-learn\n",
    "sklearn_dt.fit(x_train, y_train, sample_weight=w_train)"
   ]
  },
  {
   "cell_type": "markdown",
   "metadata": {},
   "source": [
    "#### Model Evaluation\n",
    "Since the target label is quite imbalanced, we will use area under precesion recall curve to evaluate the model instead of the confusion matrix."
   ]
  },
  {
   "cell_type": "code",
   "execution_count": 35,
   "metadata": {},
   "outputs": [],
   "source": [
    "from sklearn.metrics import precision_recall_curve, auc, roc_auc_score"
   ]
  },
  {
   "cell_type": "code",
   "execution_count": 32,
   "metadata": {},
   "outputs": [
    {
     "name": "stdout",
     "output_type": "stream",
     "text": [
      "0.2118035011470123\n",
      "[1.         1.         0.97628726 0.95799458 0.92344173 0.90311653\n",
      " 0.87737127 0.84214092 0.83604336 0.0697832  0.        ]\n",
      "[0.00172749 0.001802   0.00756379 0.01219575 0.03591757 0.05514189\n",
      " 0.11511111 0.13874316 0.14410837 0.26822917 1.        ]\n"
     ]
    }
   ],
   "source": [
    "# predict the probabilities for class 1\n",
    "y_score_dt = sklearn_dt.predict_proba(x_test)[:,1]\n",
    "\n",
    "# calculate precision and recall\n",
    "precision, recall, _ = precision_recall_curve(y_test,y_score_dt)\n",
    "\n",
    "auprc_dt = auc(recall, precision)\n",
    "\n",
    "print(auprc_dt)\n",
    "print(recall)\n",
    "print(precision)"
   ]
  },
  {
   "cell_type": "code",
   "execution_count": 34,
   "metadata": {},
   "outputs": [
    {
     "data": {
      "image/png": "[encoded data removed]",
      "text/plain": [
       "<Figure size 800x600 with 1 Axes>"
      ]
     },
     "metadata": {},
     "output_type": "display_data"
    }
   ],
   "source": [
    "plt.figure(figsize=(8, 6))\n",
    "plt.plot(recall, precision, label=f\"AUPRC = {auprc_dt:.4f}\")\n",
    "plt.xlabel(\"Recall\")\n",
    "plt.ylabel(\"Precision\")\n",
    "plt.title(\"Precision-Recall Curve\")\n",
    "plt.legend(loc=\"lower left\")\n",
    "plt.grid()\n",
    "plt.show()"
   ]
  },
  {
   "cell_type": "markdown",
   "metadata": {},
   "source": [
    "Auprc of 0.211 reflects poor performance in maintaining high precision and recall simultaneously for the fraud cases, aka the positive class. The model is not good at avoiding false positives, and capturing true positives, which will either overwhelm the analysts or miss important fraud cases."
   ]
  },
  {
   "cell_type": "code",
   "execution_count": 36,
   "metadata": {},
   "outputs": [
    {
     "data": {
      "text/plain": [
       "0.9746386622589825"
      ]
     },
     "execution_count": 36,
     "metadata": {},
     "output_type": "execute_result"
    }
   ],
   "source": [
    "# then evaluate compute area under the receiver operating characteristic\n",
    "sklearn_roc_auc = roc_auc_score(y_test,y_score_dt)\n",
    "sklearn_roc_auc"
   ]
  },
  {
   "cell_type": "markdown",
   "metadata": {},
   "source": [
    "High ROC AUC shows the model is good at distinguishing between the positive and negative classes."
   ]
  },
  {
   "cell_type": "markdown",
   "metadata": {},
   "source": [
    "### Support Vector Machine"
   ]
  },
  {
   "cell_type": "code",
   "execution_count": 28,
   "metadata": {},
   "outputs": [
    {
     "name": "stderr",
     "output_type": "stream",
     "text": [
      "/Users/graceluan/anaconda3/lib/python3.11/site-packages/sklearn/svm/_base.py:1244: ConvergenceWarning: Liblinear failed to converge, increase the number of iterations.\n",
      "  warnings.warn(\n"
     ]
    },
    {
     "data": {
      "text/html": [
       "<style>#sk-container-id-2 {color: black;background-color: white;}#sk-container-id-2 pre{padding: 0;}#sk-container-id-2 div.sk-toggleable {background-color: white;}#sk-container-id-2 label.sk-toggleable__label {cursor: pointer;display: block;width: 100%;margin-bottom: 0;padding: 0.3em;box-sizing: border-box;text-align: center;}#sk-container-id-2 label.sk-toggleable__label-arrow:before {content: \"▸\";float: left;margin-right: 0.25em;color: #696969;}#sk-container-id-2 label.sk-toggleable__label-arrow:hover:before {color: black;}#sk-container-id-2 div.sk-estimator:hover label.sk-toggleable__label-arrow:before {color: black;}#sk-container-id-2 div.sk-toggleable__content {max-height: 0;max-width: 0;overflow: hidden;text-align: left;background-color: #f0f8ff;}#sk-container-id-2 div.sk-toggleable__content pre {margin: 0.2em;color: black;border-radius: 0.25em;background-color: #f0f8ff;}#sk-container-id-2 input.sk-toggleable__control:checked~div.sk-toggleable__content {max-height: 200px;max-width: 100%;overflow: auto;}#sk-container-id-2 input.sk-toggleable__control:checked~label.sk-toggleable__label-arrow:before {content: \"▾\";}#sk-container-id-2 div.sk-estimator input.sk-toggleable__control:checked~label.sk-toggleable__label {background-color: #d4ebff;}#sk-container-id-2 div.sk-label input.sk-toggleable__control:checked~label.sk-toggleable__label {background-color: #d4ebff;}#sk-container-id-2 input.sk-hidden--visually {border: 0;clip: rect(1px 1px 1px 1px);clip: rect(1px, 1px, 1px, 1px);height: 1px;margin: -1px;overflow: hidden;padding: 0;position: absolute;width: 1px;}#sk-container-id-2 div.sk-estimator {font-family: monospace;background-color: #f0f8ff;border: 1px dotted black;border-radius: 0.25em;box-sizing: border-box;margin-bottom: 0.5em;}#sk-container-id-2 div.sk-estimator:hover {background-color: #d4ebff;}#sk-container-id-2 div.sk-parallel-item::after {content: \"\";width: 100%;border-bottom: 1px solid gray;flex-grow: 1;}#sk-container-id-2 div.sk-label:hover label.sk-toggleable__label {background-color: #d4ebff;}#sk-container-id-2 div.sk-serial::before {content: \"\";position: absolute;border-left: 1px solid gray;box-sizing: border-box;top: 0;bottom: 0;left: 50%;z-index: 0;}#sk-container-id-2 div.sk-serial {display: flex;flex-direction: column;align-items: center;background-color: white;padding-right: 0.2em;padding-left: 0.2em;position: relative;}#sk-container-id-2 div.sk-item {position: relative;z-index: 1;}#sk-container-id-2 div.sk-parallel {display: flex;align-items: stretch;justify-content: center;background-color: white;position: relative;}#sk-container-id-2 div.sk-item::before, #sk-container-id-2 div.sk-parallel-item::before {content: \"\";position: absolute;border-left: 1px solid gray;box-sizing: border-box;top: 0;bottom: 0;left: 50%;z-index: -1;}#sk-container-id-2 div.sk-parallel-item {display: flex;flex-direction: column;z-index: 1;position: relative;background-color: white;}#sk-container-id-2 div.sk-parallel-item:first-child::after {align-self: flex-end;width: 50%;}#sk-container-id-2 div.sk-parallel-item:last-child::after {align-self: flex-start;width: 50%;}#sk-container-id-2 div.sk-parallel-item:only-child::after {width: 0;}#sk-container-id-2 div.sk-dashed-wrapped {border: 1px dashed gray;margin: 0 0.4em 0.5em 0.4em;box-sizing: border-box;padding-bottom: 0.4em;background-color: white;}#sk-container-id-2 div.sk-label label {font-family: monospace;font-weight: bold;display: inline-block;line-height: 1.2em;}#sk-container-id-2 div.sk-label-container {text-align: center;}#sk-container-id-2 div.sk-container {/* jupyter's `normalize.less` sets `[hidden] { display: none; }` but bootstrap.min.css set `[hidden] { display: none !important; }` so we also need the `!important` here to be able to override the default hidden behavior on the sphinx rendered scikit-learn.org. See: https://github.com/scikit-learn/scikit-learn/issues/21755 */display: inline-block !important;position: relative;}#sk-container-id-2 div.sk-text-repr-fallback {display: none;}</style><div id=\"sk-container-id-2\" class=\"sk-top-container\"><div class=\"sk-text-repr-fallback\"><pre>LinearSVC(random_state=35)</pre><b>In a Jupyter environment, please rerun this cell to show the HTML representation or trust the notebook. <br />On GitHub, the HTML representation is unable to render, please try loading this page with nbviewer.org.</b></div><div class=\"sk-container\" hidden><div class=\"sk-item\"><div class=\"sk-estimator sk-toggleable\"><input class=\"sk-toggleable__control sk-hidden--visually\" id=\"sk-estimator-id-2\" type=\"checkbox\" checked><label for=\"sk-estimator-id-2\" class=\"sk-toggleable__label sk-toggleable__label-arrow\">LinearSVC</label><div class=\"sk-toggleable__content\"><pre>LinearSVC(random_state=35)</pre></div></div></div></div></div>"
      ],
      "text/plain": [
       "LinearSVC(random_state=35)"
      ]
     },
     "execution_count": 28,
     "metadata": {},
     "output_type": "execute_result"
    }
   ],
   "source": [
    "from sklearn.svm import LinearSVC\n",
    "sklearn_svm = LinearSVC(random_state=35)\n",
    "sklearn_svm.fit(x_train, y_train, sample_weight=w_train)"
   ]
  },
  {
   "cell_type": "code",
   "execution_count": 59,
   "metadata": {},
   "outputs": [
    {
     "name": "stdout",
     "output_type": "stream",
     "text": [
      "ROC AUC score is: 0.9879755453054005\n"
     ]
    }
   ],
   "source": [
    "y_svm_score = sklearn_svm.decision_function(x_test) #get the confidence score\n",
    "svm_roc_auc = roc_auc_score(y_test,y_svm_score)\n",
    "print('ROC AUC score is:',svm_roc_auc)\n"
   ]
  },
  {
   "cell_type": "code",
   "execution_count": 45,
   "metadata": {},
   "outputs": [
    {
     "name": "stdout",
     "output_type": "stream",
     "text": [
      "AUPRC score is: 0.2118035011470123\n"
     ]
    }
   ],
   "source": [
    "precision1, recall1, _ = precision_recall_curve(y_test,y_svm_score)\n",
    "svm_auprc = auc(recall, precision)\n",
    "print('AUPRC score is:',svm_auprc)"
   ]
  },
  {
   "cell_type": "markdown",
   "metadata": {},
   "source": [
    "### Apple Synthetic Minority Over-Sampling Technique (SMOTE)"
   ]
  },
  {
   "cell_type": "code",
   "execution_count": 47,
   "metadata": {},
   "outputs": [
    {
     "name": "stdout",
     "output_type": "stream",
     "text": [
      "Z_smote: (5686300, 29) Z original (2848070, 29)\n",
      "Y_smote: (5686300,) Z original (2848070,)\n"
     ]
    }
   ],
   "source": [
    "from imblearn.over_sampling import SMOTE\n",
    "# the minority class (1) is replicated to increase its representation.\n",
    "smote= SMOTE()\n",
    "\n",
    "Z_smote, Y_smote = smote.fit_resample(Z,Y)\n",
    "print('Z_smote:', Z_smote.shape, 'Z original', Z.shape)\n",
    "print('Y_smote:', Y_smote.shape, 'Z original', Y.shape)"
   ]
  },
  {
   "cell_type": "code",
   "execution_count": 48,
   "metadata": {},
   "outputs": [],
   "source": [
    "x_train1, x_test1, y_train1, y_test1 = train_test_split(Z_smote,Y_smote,test_size=0.3,random_state=4)"
   ]
  },
  {
   "cell_type": "code",
   "execution_count": 57,
   "metadata": {},
   "outputs": [
    {
     "data": {
      "text/html": [
       "<style>#sk-container-id-5 {color: black;background-color: white;}#sk-container-id-5 pre{padding: 0;}#sk-container-id-5 div.sk-toggleable {background-color: white;}#sk-container-id-5 label.sk-toggleable__label {cursor: pointer;display: block;width: 100%;margin-bottom: 0;padding: 0.3em;box-sizing: border-box;text-align: center;}#sk-container-id-5 label.sk-toggleable__label-arrow:before {content: \"▸\";float: left;margin-right: 0.25em;color: #696969;}#sk-container-id-5 label.sk-toggleable__label-arrow:hover:before {color: black;}#sk-container-id-5 div.sk-estimator:hover label.sk-toggleable__label-arrow:before {color: black;}#sk-container-id-5 div.sk-toggleable__content {max-height: 0;max-width: 0;overflow: hidden;text-align: left;background-color: #f0f8ff;}#sk-container-id-5 div.sk-toggleable__content pre {margin: 0.2em;color: black;border-radius: 0.25em;background-color: #f0f8ff;}#sk-container-id-5 input.sk-toggleable__control:checked~div.sk-toggleable__content {max-height: 200px;max-width: 100%;overflow: auto;}#sk-container-id-5 input.sk-toggleable__control:checked~label.sk-toggleable__label-arrow:before {content: \"▾\";}#sk-container-id-5 div.sk-estimator input.sk-toggleable__control:checked~label.sk-toggleable__label {background-color: #d4ebff;}#sk-container-id-5 div.sk-label input.sk-toggleable__control:checked~label.sk-toggleable__label {background-color: #d4ebff;}#sk-container-id-5 input.sk-hidden--visually {border: 0;clip: rect(1px 1px 1px 1px);clip: rect(1px, 1px, 1px, 1px);height: 1px;margin: -1px;overflow: hidden;padding: 0;position: absolute;width: 1px;}#sk-container-id-5 div.sk-estimator {font-family: monospace;background-color: #f0f8ff;border: 1px dotted black;border-radius: 0.25em;box-sizing: border-box;margin-bottom: 0.5em;}#sk-container-id-5 div.sk-estimator:hover {background-color: #d4ebff;}#sk-container-id-5 div.sk-parallel-item::after {content: \"\";width: 100%;border-bottom: 1px solid gray;flex-grow: 1;}#sk-container-id-5 div.sk-label:hover label.sk-toggleable__label {background-color: #d4ebff;}#sk-container-id-5 div.sk-serial::before {content: \"\";position: absolute;border-left: 1px solid gray;box-sizing: border-box;top: 0;bottom: 0;left: 50%;z-index: 0;}#sk-container-id-5 div.sk-serial {display: flex;flex-direction: column;align-items: center;background-color: white;padding-right: 0.2em;padding-left: 0.2em;position: relative;}#sk-container-id-5 div.sk-item {position: relative;z-index: 1;}#sk-container-id-5 div.sk-parallel {display: flex;align-items: stretch;justify-content: center;background-color: white;position: relative;}#sk-container-id-5 div.sk-item::before, #sk-container-id-5 div.sk-parallel-item::before {content: \"\";position: absolute;border-left: 1px solid gray;box-sizing: border-box;top: 0;bottom: 0;left: 50%;z-index: -1;}#sk-container-id-5 div.sk-parallel-item {display: flex;flex-direction: column;z-index: 1;position: relative;background-color: white;}#sk-container-id-5 div.sk-parallel-item:first-child::after {align-self: flex-end;width: 50%;}#sk-container-id-5 div.sk-parallel-item:last-child::after {align-self: flex-start;width: 50%;}#sk-container-id-5 div.sk-parallel-item:only-child::after {width: 0;}#sk-container-id-5 div.sk-dashed-wrapped {border: 1px dashed gray;margin: 0 0.4em 0.5em 0.4em;box-sizing: border-box;padding-bottom: 0.4em;background-color: white;}#sk-container-id-5 div.sk-label label {font-family: monospace;font-weight: bold;display: inline-block;line-height: 1.2em;}#sk-container-id-5 div.sk-label-container {text-align: center;}#sk-container-id-5 div.sk-container {/* jupyter's `normalize.less` sets `[hidden] { display: none; }` but bootstrap.min.css set `[hidden] { display: none !important; }` so we also need the `!important` here to be able to override the default hidden behavior on the sphinx rendered scikit-learn.org. See: https://github.com/scikit-learn/scikit-learn/issues/21755 */display: inline-block !important;position: relative;}#sk-container-id-5 div.sk-text-repr-fallback {display: none;}</style><div id=\"sk-container-id-5\" class=\"sk-top-container\"><div class=\"sk-text-repr-fallback\"><pre>DecisionTreeClassifier(max_depth=4, random_state=35)</pre><b>In a Jupyter environment, please rerun this cell to show the HTML representation or trust the notebook. <br />On GitHub, the HTML representation is unable to render, please try loading this page with nbviewer.org.</b></div><div class=\"sk-container\" hidden><div class=\"sk-item\"><div class=\"sk-estimator sk-toggleable\"><input class=\"sk-toggleable__control sk-hidden--visually\" id=\"sk-estimator-id-5\" type=\"checkbox\" checked><label for=\"sk-estimator-id-5\" class=\"sk-toggleable__label sk-toggleable__label-arrow\">DecisionTreeClassifier</label><div class=\"sk-toggleable__content\"><pre>DecisionTreeClassifier(max_depth=4, random_state=35)</pre></div></div></div></div></div>"
      ],
      "text/plain": [
       "DecisionTreeClassifier(max_depth=4, random_state=35)"
      ]
     },
     "execution_count": 57,
     "metadata": {},
     "output_type": "execute_result"
    }
   ],
   "source": [
    "dt_smote = DecisionTreeClassifier(max_depth=4,random_state=35)\n",
    "dt_smote.fit(x_train1,y_train1)"
   ]
  },
  {
   "cell_type": "code",
   "execution_count": 58,
   "metadata": {},
   "outputs": [
    {
     "name": "stdout",
     "output_type": "stream",
     "text": [
      "AUPRC score is: 0.4842905317060594\n",
      "ROC AUC score is: 0.9741669003853303\n"
     ]
    }
   ],
   "source": [
    "y_dt_smote_score = dt_smote.predict_proba(x_test1)[:,1]\n",
    "precision_smote, recall_smote, _ =precision_recall_curve(y_test1,y_dt_smote_score)\n",
    "auprc_dt_smote = auc(precision_smote,recall_smote)\n",
    "roc_auc_smote = roc_auc_score(y_test1,y_dt_smote_score)\n",
    "print('AUPRC score is:', auprc_dt_smote)\n",
    "print('ROC AUC score is:', roc_auc_smote)"
   ]
  },
  {
   "cell_type": "code",
   "execution_count": 54,
   "metadata": {},
   "outputs": [
    {
     "data": {
      "text/plain": [
       "Class\n",
       "0.0    2843150\n",
       "1.0    2843150\n",
       "Name: count, dtype: int64"
      ]
     },
     "execution_count": 54,
     "metadata": {},
     "output_type": "execute_result"
    }
   ],
   "source": [
    "#checking the baseline\n",
    "Y_smote.value_counts()"
   ]
  },
  {
   "cell_type": "markdown",
   "metadata": {},
   "source": [
    "SMOTE improve the decision tree model's AUPRC score, strengthing its ability to differentiate true and false positive cases. However, after SMOTE techniques, the fraud cases account for 50% of the data, an AUPRC of 0.484 is still not good enough."
   ]
  },
  {
   "cell_type": "code",
   "execution_count": 60,
   "metadata": {},
   "outputs": [
    {
     "name": "stdout",
     "output_type": "stream",
     "text": [
      "ROC AUC score is: 0.6340256243739628\n"
     ]
    }
   ],
   "source": [
    "y_svm_score1 = sklearn_svm.decision_function(x_test1) #get the confidence score\n",
    "svm_roc_auc1 = roc_auc_score(y_test1,y_svm_score1)\n",
    "print('ROC AUC score is:',svm_roc_auc1)\n"
   ]
  },
  {
   "cell_type": "code",
   "execution_count": 61,
   "metadata": {},
   "outputs": [
    {
     "name": "stdout",
     "output_type": "stream",
     "text": [
      "AUPRC score is: 0.5973642044199974\n"
     ]
    }
   ],
   "source": [
    "precision2, recall2, _ = precision_recall_curve(y_test1,y_svm_score1)\n",
    "svm_auprc2 = auc(recall2, precision2)\n",
    "print('AUPRC score is:',svm_auprc2)"
   ]
  }
 ],
 "metadata": {
  "kernelspec": {
   "display_name": "base",
   "language": "python",
   "name": "python3"
  },
  "language_info": {
   "codemirror_mode": {
    "name": "ipython",
    "version": 3
   },
   "file_extension": ".py",
   "mimetype": "text/x-python",
   "name": "python",
   "nbconvert_exporter": "python",
   "pygments_lexer": "ipython3",
   "version": "3.11.3"
  },
  "orig_nbformat": 4
 },
 "nbformat": 4,
 "nbformat_minor": 2
}
